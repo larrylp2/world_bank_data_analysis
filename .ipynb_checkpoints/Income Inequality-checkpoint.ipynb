{
 "cells": [
  {
   "cell_type": "markdown",
   "id": "dental-vegetarian",
   "metadata": {},
   "source": [
    "## Larry Peng\n",
    "\n",
    "# Income Inequality\n",
    "\n",
    "### Using World Bank Data, I hope to answer the question:\n",
    "\"Is there a relationship between a nation's Wealth (GDP per capita) and a nation's level of Income Inequality (Gini Coefficient)?\""
   ]
  },
  {
   "cell_type": "code",
   "execution_count": 1,
   "id": "detected-johnston",
   "metadata": {},
   "outputs": [],
   "source": [
    "#Initial Imports\n",
    "import pandas as pd\n",
    "import numpy as np"
   ]
  },
  {
   "cell_type": "markdown",
   "id": "necessary-greece",
   "metadata": {},
   "source": [
    "## Data Cleaning\n",
    "I will mainly be working with WorldBank data regarding the \"GDP per capita (current US$)\" and the \"Gini index (World Bank estimate)\" of nations.\n",
    "\\n\n",
    "At a glance, there are many missing values in the dataset."
   ]
  },
  {
   "cell_type": "code",
   "execution_count": null,
   "id": "graphic-victory",
   "metadata": {},
   "outputs": [],
   "source": [
    "#First load the two csv files into two different dataframes\n",
    "gdp_df = pd.readcsv(\"\")"
   ]
  }
 ],
 "metadata": {
  "kernelspec": {
   "display_name": "Python 3",
   "language": "python",
   "name": "python3"
  },
  "language_info": {
   "codemirror_mode": {
    "name": "ipython",
    "version": 3
   },
   "file_extension": ".py",
   "mimetype": "text/x-python",
   "name": "python",
   "nbconvert_exporter": "python",
   "pygments_lexer": "ipython3",
   "version": "3.8.5"
  }
 },
 "nbformat": 4,
 "nbformat_minor": 5
}
